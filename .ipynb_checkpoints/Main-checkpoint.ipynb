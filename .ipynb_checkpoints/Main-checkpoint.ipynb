{
 "cells": [
  {
   "cell_type": "markdown",
   "id": "063addf4",
   "metadata": {},
   "source": [
    "# Generalization of HINGE's Quality Measures"
   ]
  },
  {
   "cell_type": "code",
   "execution_count": 1,
   "id": "bd4d8129",
   "metadata": {},
   "outputs": [],
   "source": [
    "import csv\n",
    "import json\n",
    "import numpy as np\n"
   ]
  },
  {
   "cell_type": "code",
   "execution_count": 2,
   "id": "7d5b1f8e",
   "metadata": {},
   "outputs": [],
   "source": [
    "class DTNode:\n",
    "    def __init__(self, obj):\n",
    "        self.featureID  = obj['featureID']\n",
    "        self.yes_child  = obj['yes_child']\n",
    "        self.no_child  = obj['no_child']\n",
    "        self.next = ''\n",
    "#         self.description()\n",
    "\n",
    "    def processing(self, patient):\n",
    "        \n",
    "        r = self.query_system(patient)\n",
    "        if r != None:\n",
    "            if r:\n",
    "#                 print(f'\\nProcessing Node ({self.featureID}) ... Next = {self.yes_child}')\n",
    "                return self.yes_child\n",
    "            else:\n",
    "#                 print(f'\\nProcessing Node ({self.featureID}) ... Next = {self.no_child}')\n",
    "                return self.no_child\n",
    "        else:\n",
    "            return None\n",
    "\n",
    "        \n",
    "    def query_system(self, patient):\n",
    "#         print(patient['diagnosis']['previousSurgery'])\n",
    "#         print(type(self.featureID))\n",
    "        valid_risks = ['very low', 'low', 'intermediate', 'high', 'very high']\n",
    "        \n",
    "        \n",
    "        if self.featureID == '1':\n",
    "#             print('working on the feature 1')\n",
    "            try:                \n",
    "                had_surgery = True if (patient['diagnosis']['previousSurgery'].lower() == 'yes') else False\n",
    "            except:\t\t\t\n",
    "                had_surgery = False \n",
    "            return had_surgery\n",
    "        \n",
    "        \n",
    "        elif self.featureID =='2':\n",
    "            ## Staging\n",
    "            try:\n",
    "                TX = patient['diagnosis']['tStage']\n",
    "                t_stage = True if (TX) else False\n",
    "                # t_stage = TX if (TX) else -1\n",
    "            except:  \n",
    "                # t_stage = -1 \n",
    "                t_stage = False\n",
    "            return t_stage\n",
    "\t\n",
    "\n",
    "\t\t## Gleason Scores \n",
    "        elif self.featureID =='3':\n",
    "            # try:\n",
    "            #     primary = float(patient['diagnosis']['gleasonScore']['primaryGS'])\n",
    "            #     primary_gs = primary if (primary >= 0) else -1\n",
    "            # except:  \n",
    "            #     primary_gs = -1\n",
    "            try:\n",
    "                primary = float(patient['diagnosis']['gleasonScore']['primaryGS'])\n",
    "                primary_gs = True if (primary >= 0) else False\n",
    "            except:  \n",
    "                primary_gs = False\n",
    "            return primary_gs\n",
    "\n",
    "\n",
    "        elif self.featureID =='4':\n",
    "            # try:\n",
    "            #     secondary = float(patient['diagnosis']['gleasonScore']['secondaryGS'])\n",
    "            #     secondary_gs = secondary if (secondary >= 0) else -1\n",
    "            # except:  \n",
    "            #     secondary_gs = -1 \n",
    "            try:\n",
    "                secondary = float(patient['diagnosis']['gleasonScore']['secondaryGS'])\n",
    "                secondary_gs = True if (secondary >= 0) else False\n",
    "            except:  \n",
    "                secondary_gs = False\n",
    "            return secondary_gs\n",
    "\n",
    "\n",
    "\n",
    "\n",
    "        elif self.featureID =='5':\n",
    "            # try:\n",
    "            #     total = float(patient['diagnosis']['gleasonScore']['totalGS'])\n",
    "            #     total_gs = total if (total >= 0.0) else -1 \n",
    "            # except:  \n",
    "            #     total_gs = -1\n",
    "            try:\n",
    "                total = float(patient['diagnosis']['gleasonScore']['totalGS'])\n",
    "                total_gs = True if (total >= 0.0) else False\n",
    "            except:  \n",
    "                total_gs = False\n",
    "            return total_gs\n",
    "\n",
    "\t\t\n",
    "\n",
    "\n",
    "        elif self.featureID =='6':\n",
    "            ## Prostate-Specific Antigen \n",
    "            try:\n",
    "                psaScore = patient['diagnosis']['psa'][0]['psaScore']\n",
    "                prostate_antigen = True if psaScore > 0 else False \n",
    "            except: \n",
    "                psaScore = np.nan \n",
    "                prostate_antigen = False\n",
    "            return prostate_antigen\n",
    "\t\t\n",
    "\n",
    "\n",
    "        elif self.featureID =='7':\n",
    "            # try:\n",
    "            #     risk_group = patient['diagnosis']['nccnRiskCategory'].lower()\n",
    "            #     risk = risk_group if (risk_group) else None\n",
    "            # except:  \n",
    "            #     risk = None\n",
    "            try:\n",
    "                risk_group = patient['diagnosis']['nccnRiskCategory'].lower()\n",
    "                risk = True if (risk_group) else False\n",
    "            except:  \n",
    "                risk = False\n",
    "            return risk\n",
    "\t\t\n",
    "            \n",
    "\n",
    "                \n",
    "\n",
    "    def description(self):\n",
    "        print(f'\\t - Feature ID = {self.featureID}')\n",
    "        print(f'\\t - Yes child  = {self.yes_child}')\n",
    "        print(f'\\t - No child   = {self.no_child}')\n"
   ]
  },
  {
   "cell_type": "markdown",
   "id": "02e82360",
   "metadata": {},
   "source": [
    "# Decision Trees class"
   ]
  },
  {
   "cell_type": "code",
   "execution_count": 3,
   "id": "d9a4eca7",
   "metadata": {},
   "outputs": [],
   "source": [
    "class DT:\n",
    "    dt = None\n",
    "    def __init__(self, dt, patient):\n",
    "        '''- Read a list of decision tree nodes as json\n",
    "           - we create a list of DTNodes\n",
    "           - we iterate through the ids and check...'''\n",
    "        self.dt = dt\n",
    "        self.current_node = DTNode(dt[0])\n",
    "        self.result = self.current_node.processing(patient)\n",
    "\n",
    "        if self.result != None:\n",
    "            while self.result not in ['pass', 'fail', 'exclude']:            \n",
    "                self.current_node = DTNode(self.get_next(self.result, self.dt))\n",
    "                self.result = self.current_node.processing(patient)\n",
    "#         print(f'FINAL RESULT: {self.result}')\n",
    "            \n",
    "    def get_next(self, next_node, dt):\n",
    "        '''search for the next item'''\n",
    "#         print('Next node is : ', next_node)\n",
    "        for node_dict in dt:\n",
    "            if node_dict['featureID']==next_node:\n",
    "                return node_dict\n"
   ]
  },
  {
   "cell_type": "markdown",
   "id": "8f64be2c",
   "metadata": {},
   "source": [
    "# Processing"
   ]
  },
  {
   "cell_type": "markdown",
   "id": "3dab0014",
   "metadata": {},
   "source": [
    "## 1- reading the data and QM"
   ]
  },
  {
   "cell_type": "code",
   "execution_count": 4,
   "id": "a73562da",
   "metadata": {},
   "outputs": [
    {
     "name": "stdout",
     "output_type": "stream",
     "text": [
      "{'featureID': '1', 'yes_child': 'exclude', 'no_child': '2'}\n",
      "{'featureID': '2', 'yes_child': '3', 'no_child': 'fail'}\n",
      "{'featureID': '3', 'yes_child': '4', 'no_child': 'fail'}\n",
      "{'featureID': '4', 'yes_child': '5', 'no_child': 'fail'}\n",
      "{'featureID': '5', 'yes_child': 'pass', 'no_child': 'fail'}\n"
     ]
    }
   ],
   "source": [
    "with open('Data/DT.json', 'r') as f:\n",
    "    dt = json.load(f)\n",
    "\n",
    "with open('Data/data.json', 'r') as f:\n",
    "    data = json.load(f)\n",
    "\n",
    "for i in dt:\n",
    "    print(i)"
   ]
  },
  {
   "cell_type": "markdown",
   "id": "7fabb5ff",
   "metadata": {},
   "source": [
    "## 2- Processing the QM "
   ]
  },
  {
   "cell_type": "code",
   "execution_count": 5,
   "id": "e8122b4f",
   "metadata": {},
   "outputs": [
    {
     "name": "stdout",
     "output_type": "stream",
     "text": [
      "['fail', 'fail', 'fail', 'fail', 'fail', 'fail', 'pass', 'fail', 'fail', 'fail', 'fail', 'fail', 'fail', 'fail', 'fail', 'fail', 'fail', 'fail', 'fail', 'fail', 'fail', 'fail', 'fail', 'fail', 'fail', 'fail', 'fail', 'fail', 'fail', 'fail', 'fail', 'fail', 'fail', 'fail', 'fail', 'fail', 'fail', 'fail', 'fail', 'fail', 'fail', 'pass', 'pass', 'pass', 'pass', 'pass', 'pass', 'pass', 'pass', 'pass', 'pass', 'pass', 'pass', 'fail', 'fail', 'fail', 'fail', 'fail', 'fail', 'fail', 'fail', 'fail', 'fail', 'fail', 'fail', 'fail', 'exclude', 'exclude', 'exclude', 'fail', 'pass', 'pass', 'pass', 'pass', 'pass', 'fail', 'exclude', 'exclude', 'fail', 'fail', 'fail', 'fail', 'fail', 'fail', 'fail', 'fail', 'fail', 'pass', 'pass', 'pass', 'pass', 'pass', 'pass', 'pass', 'pass', 'pass', 'pass', 'pass', 'pass', 'pass', 'pass', 'pass', 'fail', 'fail', 'fail', 'fail', 'fail', 'pass', 'pass', 'pass', 'pass', 'pass', 'pass', 'pass', 'pass', 'pass', 'fail', 'fail', 'fail', 'fail', 'fail', 'fail', 'fail', 'fail', 'fail', 'pass', 'fail', 'fail', 'fail', 'fail', 'fail', 'pass', 'pass', 'fail', 'fail', 'fail', 'fail', 'fail', 'fail', 'fail', 'fail', 'fail', 'fail', 'exclude', 'fail', 'exclude', 'fail', 'fail', 'fail', 'fail', 'pass', 'pass', 'pass', 'pass', 'pass', 'pass', 'pass', 'fail', 'pass', 'pass', 'fail', 'fail', 'fail', 'fail', 'fail', 'fail', 'fail', 'fail', 'fail', 'fail', 'fail', 'fail', 'fail', 'fail', 'fail', 'fail', 'fail', 'fail', 'fail', 'fail', 'fail', 'fail', 'fail', 'fail', 'fail', 'fail', 'fail', 'fail', 'fail', 'fail', 'exclude', 'exclude', 'exclude', 'exclude', 'exclude', 'pass', 'pass', 'pass', 'exclude', 'pass', 'pass', 'fail', 'fail', 'fail', 'fail', 'fail', 'fail', 'fail', 'fail', 'fail', 'fail', 'exclude', 'exclude', 'exclude', 'exclude', 'exclude', 'exclude', 'fail', 'fail', 'exclude', 'exclude', 'exclude', 'exclude', 'exclude', 'exclude', 'exclude', 'exclude', 'exclude', 'fail', 'fail', 'fail', 'fail', 'fail', 'exclude', 'pass', 'pass', 'fail', 'fail', 'fail', 'fail', 'pass', 'pass', 'pass', 'pass', 'pass', 'pass', 'pass', 'exclude', 'pass', 'pass', 'pass', 'pass', 'pass', 'pass', 'pass', 'pass', 'exclude', 'exclude', 'exclude', 'exclude', 'exclude', 'fail', 'fail', 'exclude', 'exclude', 'exclude', 'exclude', 'exclude', 'exclude', 'fail', 'fail', 'fail', 'fail', 'fail', 'fail', 'fail', 'fail', 'fail', 'fail', 'fail', 'fail', 'fail', 'pass', 'pass', 'fail', 'fail', 'pass', 'pass', 'pass', 'pass', 'fail', 'pass', 'exclude', 'exclude', 'exclude', 'pass', 'pass', 'pass', 'pass', 'pass', 'pass', 'pass', 'pass', 'exclude', 'exclude', 'pass', 'pass', 'exclude', 'exclude', 'fail', 'fail', 'fail', 'fail', 'pass', 'fail', 'fail', 'fail', 'fail', 'fail', 'fail', 'exclude', 'exclude', 'exclude', 'exclude', 'pass', 'pass', 'pass', 'fail', 'pass', 'pass', 'pass', 'pass', 'pass', 'pass', 'pass', 'pass', 'pass', 'pass', 'pass', 'fail', 'fail', 'fail', 'fail', 'fail', 'fail', 'pass', 'pass', 'pass', 'pass', 'pass', 'pass', 'fail', 'fail', 'fail', 'fail', 'fail', 'fail', 'fail', 'fail', 'fail', 'fail', 'fail', 'fail', 'fail', 'fail', 'fail', 'fail', 'fail', 'fail', 'fail', 'fail', 'pass', 'pass', 'pass', 'pass', 'pass', 'pass', 'pass', 'pass', 'pass', 'pass', 'pass', 'pass', 'pass', 'pass', 'pass', 'pass', 'pass', 'pass', 'pass', 'pass', 'pass', 'pass', 'pass', 'fail', 'fail', 'fail', 'fail', 'fail', 'fail', 'fail', 'pass', 'pass', 'pass', 'pass', 'pass', 'pass', 'pass', 'fail', 'fail', 'fail', 'fail', 'fail', 'fail', 'fail', 'fail', 'fail', 'fail', 'fail', 'fail', 'fail', 'exclude', 'pass', 'pass', 'pass', 'pass', 'pass', 'pass', 'pass', 'pass', 'pass', 'fail', 'pass', 'fail', 'fail', 'fail', 'fail', 'pass', 'pass', 'pass', 'pass', 'pass', 'pass', 'pass', 'fail', 'fail', 'pass', 'fail', 'fail', 'fail', 'fail', 'fail', 'pass', 'pass', 'pass', 'fail', 'pass', 'fail', 'pass', 'fail', 'fail', 'fail', 'fail', 'fail', 'fail', 'fail', 'exclude', 'fail', 'fail', 'fail', 'fail', 'fail', 'fail', 'fail', 'fail', 'fail', 'exclude', 'exclude', 'fail', 'fail', 'fail', 'fail', 'fail', 'fail', 'fail', 'fail', 'fail', 'exclude', 'pass', 'exclude', 'pass', 'pass', 'fail', 'pass', 'pass', 'pass', 'pass', 'pass', 'pass', 'pass', 'pass', 'pass', 'pass', 'pass', 'fail', 'fail', 'fail', 'fail', 'fail', 'fail', 'fail', 'fail', 'fail', 'pass', 'pass', 'pass', 'pass', 'pass', 'pass', 'pass', 'fail', 'pass', 'pass', 'pass', 'fail', 'fail', 'exclude', 'exclude', 'pass', 'fail', 'fail', 'fail', 'exclude', 'exclude', 'exclude', 'fail', 'exclude', 'exclude', 'exclude', 'pass', 'exclude', 'pass', 'pass', 'pass', 'pass', 'pass', 'pass', 'pass', 'pass', 'pass', 'pass', 'pass', 'pass', 'pass', 'pass', 'pass', 'fail', 'fail', 'fail', 'fail', 'fail', 'fail', 'pass', 'fail', 'pass', 'fail', 'fail', 'fail', 'pass', 'pass', 'fail', 'fail', 'fail', 'fail', 'fail', 'fail', 'fail', 'fail', 'fail', 'fail', 'pass', 'pass', 'fail', 'pass', 'exclude', 'exclude', 'exclude', 'exclude', 'pass', 'pass', 'pass', 'pass', 'pass', 'pass', 'pass', 'pass', 'pass', 'fail', 'fail', 'fail', 'fail', 'exclude', 'exclude', 'exclude', 'exclude', 'exclude', 'exclude', 'exclude', 'exclude', 'pass', 'pass', 'fail', 'fail', 'fail', 'fail', 'fail', 'fail', 'fail', 'fail', 'pass', 'pass', 'pass', 'pass', 'exclude', 'exclude', 'exclude', 'exclude', 'exclude', 'fail', 'fail', 'pass', 'pass', 'pass', 'pass', 'pass', 'pass', 'pass', 'pass', 'fail', 'fail', 'exclude', 'pass', 'pass', 'pass', 'pass', 'pass', 'pass', 'fail', 'fail', 'fail', 'fail', 'fail', 'fail', 'fail', 'fail', 'fail', 'fail', 'fail', 'fail', 'exclude', 'exclude', 'exclude', 'exclude', 'fail', 'fail', 'fail', 'fail', 'fail', 'fail', 'fail', 'fail', 'fail', 'pass', 'pass', 'pass', 'pass', 'pass', 'pass', 'pass', 'pass', 'fail', 'fail', 'fail', 'fail', 'fail', 'fail', 'fail', 'fail', 'fail', 'pass', 'pass', 'fail', 'pass', 'pass', 'pass', 'pass', 'pass', 'fail', 'fail', 'fail', 'fail', 'pass', 'pass', 'pass', 'pass', 'pass', 'pass', 'pass', 'pass', 'fail', 'fail', 'fail', 'fail', 'fail', 'fail', 'pass', 'fail', 'fail', 'fail', 'fail', 'fail', 'fail', 'fail', 'fail', 'fail', 'fail', 'fail', 'fail', 'fail', 'fail', 'fail', 'pass', 'pass', 'pass', 'pass', 'pass', 'pass', 'pass', 'fail', 'fail', 'fail', 'fail', 'fail', 'pass', 'fail', 'pass', 'pass', 'pass', 'pass', 'pass', 'fail', 'pass', 'fail', 'fail', 'fail', 'fail', 'pass', 'pass', 'fail', 'fail', 'fail', 'fail', 'fail', 'fail', 'fail', 'fail', 'fail', 'pass', 'pass', 'pass', 'pass', 'pass', 'pass', 'pass', 'pass', 'pass', 'exclude', 'exclude', 'exclude', 'exclude', 'pass', 'pass', 'pass', 'pass', 'pass', 'pass', 'pass', 'pass', 'pass', 'exclude', 'exclude', 'exclude', 'exclude', 'exclude', 'fail', 'fail', 'fail', 'fail', 'fail', 'fail', 'fail', 'fail', 'pass', 'pass', 'fail', 'fail', 'exclude', 'exclude', 'exclude', 'exclude', 'exclude', 'exclude', 'exclude', 'exclude', 'exclude', 'fail', 'exclude', 'fail', 'pass', 'fail', 'pass', 'fail', 'pass', 'pass', 'pass', 'pass', 'pass', 'fail', 'fail', 'fail', 'fail', 'fail', 'fail', 'fail', 'fail', 'fail', 'fail', 'fail', 'fail', 'fail', 'fail', 'fail', 'fail', 'fail', 'exclude', 'exclude', 'exclude', 'exclude', 'fail', 'fail', 'fail', 'fail', 'fail', 'fail', 'fail', 'fail', 'fail', 'fail', 'fail', 'fail', 'fail', 'fail', 'fail', 'fail', 'fail', 'fail', 'fail', 'fail', 'fail', 'fail', 'fail', 'fail', 'fail', 'fail', 'fail', 'fail', 'fail', 'pass', 'pass', 'pass', 'pass', 'pass', 'pass', 'pass', 'pass', 'pass', 'pass', 'fail', 'fail', 'fail', 'fail', 'fail', 'exclude', 'exclude', 'exclude', 'exclude', 'fail', 'fail', 'fail', 'fail', 'fail', 'fail', 'fail', 'exclude', 'pass', 'pass', 'pass', 'pass', 'pass', 'pass', 'pass', 'pass', 'pass', 'pass', 'exclude', 'fail', 'fail', 'exclude', 'fail', 'exclude', 'fail', 'fail', 'fail', 'pass', 'pass', 'pass', 'pass', 'pass', 'pass', 'pass', 'pass', 'pass', 'pass', 'pass', 'pass', 'pass', 'pass', 'pass', 'pass', 'exclude', 'exclude', 'exclude', 'exclude', 'pass', 'pass', 'pass', 'pass', 'pass', 'pass', 'pass', 'pass', 'pass', 'exclude', 'exclude', 'fail', 'exclude', 'exclude', 'exclude', 'fail', 'fail', 'fail', 'fail', 'fail', 'fail', 'fail', 'fail', 'fail', 'fail', 'fail', 'fail', 'fail', 'fail', 'fail', 'exclude', 'exclude', 'exclude', 'exclude', 'exclude', 'fail', 'fail', 'fail', 'fail', 'fail', 'fail', 'fail', 'fail', 'fail', 'fail', 'fail', 'fail', 'fail', 'fail', 'fail', 'fail', 'exclude', 'exclude', 'exclude', 'exclude', 'exclude', 'exclude', 'exclude', 'exclude', 'exclude', 'exclude', 'exclude', 'exclude', 'exclude', 'pass', 'pass', 'pass', 'pass', 'pass', 'pass', 'pass', 'pass', 'fail', 'fail', 'fail', 'fail', 'fail', 'fail', 'exclude', 'pass', 'pass', 'pass', 'pass', 'pass', 'pass', 'pass', 'pass', 'pass', 'pass', 'exclude', 'pass', 'pass', 'pass', 'pass', 'pass', 'pass', 'pass', 'pass', 'pass', 'pass', 'pass', 'pass', 'pass', 'pass', 'pass', 'pass', 'pass', 'fail', 'fail', 'pass', 'fail', 'pass', 'pass', 'pass', 'pass', 'pass', 'pass', 'fail', 'fail', 'fail', 'fail', 'fail', 'fail', 'fail', 'fail', 'fail', 'fail', 'fail', 'fail', 'fail', 'fail', 'pass', 'pass', 'pass', 'pass', 'pass', 'pass', 'pass', 'pass', 'pass', 'fail', 'fail', 'fail', 'fail', 'fail', 'fail', 'pass', 'pass', 'fail', 'fail', 'fail', 'fail', 'fail', 'fail', 'fail', 'fail', 'pass', 'pass', 'fail', 'fail', 'fail', 'fail', 'fail', 'fail', 'fail', 'fail', 'fail', 'fail', 'pass', 'fail', 'pass', 'pass', 'pass', 'pass', 'pass', 'pass', 'fail', 'pass', 'fail', 'fail', 'fail', 'fail', 'fail', 'fail', 'fail', 'fail', 'fail', 'fail', 'pass', 'pass', 'pass', 'pass', 'pass', 'pass', 'pass', 'pass', 'fail', 'fail', 'fail', 'fail', 'fail', 'fail', 'fail', 'fail', 'fail', 'fail', 'fail', 'fail', 'fail', 'fail', 'fail', 'exclude', 'pass', 'pass', 'pass', 'pass', 'pass', 'pass', 'pass', 'fail', 'pass', 'pass', 'pass', 'pass', 'pass', 'pass', 'pass', 'pass', 'pass', 'pass', 'pass', 'pass', 'pass', 'fail', 'fail', 'fail', 'fail', 'pass', 'fail', 'exclude', 'fail', 'fail', 'fail', 'fail', 'fail', 'fail', 'fail', 'pass', 'exclude', 'exclude', 'fail', 'exclude', 'fail', 'pass', 'pass', 'pass', 'pass', 'pass', 'pass', 'pass', 'pass', 'pass', 'exclude', 'exclude', 'exclude', 'exclude', 'exclude', 'exclude', 'fail', 'pass', 'pass', 'pass', 'pass', 'pass', 'pass', 'pass', 'fail', 'fail', 'fail', 'fail', 'exclude', 'exclude', 'exclude', 'exclude', 'exclude', 'exclude', 'fail', 'exclude', 'fail', 'exclude', 'fail', 'fail', 'fail', 'fail', 'fail', 'fail', 'fail', 'fail', 'fail', 'fail', 'fail', 'fail', 'fail', 'fail', 'fail', 'pass', 'fail', 'fail', 'fail', 'fail', 'fail', 'fail', 'fail', 'fail', 'fail', 'pass', 'pass', 'pass', 'pass', 'pass', 'fail', 'fail', 'fail', 'pass', 'fail', 'fail', 'fail', 'fail', 'fail', 'fail', 'fail', 'fail', 'fail', 'fail', 'fail', 'fail', 'exclude', 'fail', 'fail', 'fail', 'fail', 'fail', 'fail', 'fail', 'pass', 'pass', 'fail', 'fail', 'fail', 'fail', 'pass', 'pass', 'pass', 'pass', 'pass', 'pass', 'pass', 'pass', 'fail', 'exclude', 'fail', 'exclude', 'exclude', 'fail', 'fail', 'fail', 'fail', 'fail', 'fail', 'fail', 'fail', 'fail', 'fail', 'fail', 'fail', 'fail', 'fail', 'exclude', 'exclude', 'exclude', 'fail', 'pass', 'pass', 'pass', 'pass', 'pass', 'pass', 'pass', 'pass', 'pass', 'pass', 'pass', 'pass', 'pass', 'pass', 'pass', 'pass', 'pass', 'pass', 'exclude', 'fail', 'fail', 'fail', 'fail', 'fail', 'fail', 'fail', 'fail', 'fail', 'fail', 'fail', 'fail', 'fail', 'pass', 'pass', 'pass', 'fail', 'fail', 'fail', 'fail', 'fail', 'fail', 'fail', 'fail', 'fail', 'fail', 'fail', 'exclude', 'fail', 'fail', 'fail', 'fail', 'fail', 'fail', 'fail', 'fail', 'fail', 'fail', 'fail', 'pass', 'pass', 'pass', 'pass', 'pass', 'pass', 'pass', 'pass', 'pass', 'pass', 'fail', 'pass', 'fail', 'fail', 'fail', 'fail', 'fail', 'pass', 'fail', 'fail', 'exclude', 'pass', 'exclude', 'pass', 'exclude', 'pass', 'pass', 'pass', 'pass', 'pass', 'pass', 'pass', 'pass', 'pass', 'pass', 'pass', 'pass', 'pass', 'pass', 'pass', 'pass', 'pass', 'pass', 'pass', 'fail', 'fail', 'fail', 'pass', 'fail', 'pass', 'pass', 'pass', 'pass', 'pass', 'pass', 'pass', 'pass', 'pass', 'pass', 'pass', 'pass', 'pass', 'fail', 'exclude', 'fail', 'fail', 'fail', 'fail', 'fail', 'fail', 'fail', 'fail', 'fail', 'fail', 'fail', 'fail', 'fail', 'fail', 'fail', 'fail', 'fail', 'fail', 'fail', 'fail', 'fail', 'pass', 'pass', 'pass', 'pass', 'pass', 'pass', 'pass', 'pass', 'pass', 'pass', 'pass', 'pass', 'pass', 'pass', 'exclude', 'pass', 'pass', 'pass', 'pass', 'pass', 'pass', 'pass', 'fail', 'fail', 'fail', 'fail', 'fail', 'fail', 'fail', 'fail', 'fail', 'fail', 'fail', 'fail', 'exclude', 'exclude', 'fail', 'fail', 'fail', 'fail', 'fail', 'fail', 'fail', 'pass', 'pass', 'pass', 'pass', 'pass', 'pass', 'pass', 'pass', 'pass', 'pass', 'pass', 'pass', 'pass', 'exclude', 'pass', 'pass', 'fail', 'pass', 'pass', 'pass', 'pass', 'exclude', 'pass', 'pass', 'pass', 'fail', 'fail', 'fail', 'fail', 'exclude', 'exclude', 'exclude', 'exclude', 'pass', 'exclude', 'pass', 'pass', 'pass', 'pass', 'exclude', 'pass', 'pass', 'pass', 'pass', 'pass', 'exclude', 'pass', 'pass', 'pass', 'pass', 'pass', 'pass', 'pass', 'pass', 'pass', 'pass', 'exclude', 'exclude']\n"
     ]
    }
   ],
   "source": [
    "results = []\n",
    "for patient in data:\n",
    "    results.append(DT(dt, patient).result)\n",
    "print(results)\n",
    "        "
   ]
  }
 ],
 "metadata": {
  "kernelspec": {
   "display_name": "Python 3 (ipykernel)",
   "language": "python",
   "name": "python3"
  },
  "language_info": {
   "codemirror_mode": {
    "name": "ipython",
    "version": 3
   },
   "file_extension": ".py",
   "mimetype": "text/x-python",
   "name": "python",
   "nbconvert_exporter": "python",
   "pygments_lexer": "ipython3",
   "version": "3.9.13"
  }
 },
 "nbformat": 4,
 "nbformat_minor": 5
}
